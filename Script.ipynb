{
 "cells": [
  {
   "cell_type": "code",
   "execution_count": 45,
   "metadata": {},
   "outputs": [],
   "source": [
    "import pandas as pd\n",
    "import pymongo\n",
    "import numpy as np\n",
    "import os"
   ]
  },
  {
   "cell_type": "code",
   "execution_count": 46,
   "metadata": {},
   "outputs": [],
   "source": [
    "areas = {'Administração': 0,\n",
    "         'Exatas' : 0,\n",
    "         'Ciências Sociais e Humanas' : 0,\n",
    "         'Engenharia' : 0,\n",
    "         'Saúde' : 0,\n",
    "         'Biologia': 0,\n",
    "         'Artes' : 0}\n",
    "\n",
    "vazio = 0 #significa que não finalizou o teste"
   ]
  },
  {
   "cell_type": "code",
   "execution_count": 47,
   "metadata": {},
   "outputs": [],
   "source": [
    "dados = pd.read_csv('dados.csv')\n",
    "df = pd.DataFrame(dados)\n",
    "\n",
    "totalUsuarios = len(df)\n",
    "\n",
    "#Cálculo dos resultados de área\n",
    "for a in df['resultado']:\n",
    "    if a in areas:\n",
    "        areas[a] += 1\n",
    "    else:\n",
    "        vazio += 1\n",
    "\n",
    "#Estatisticas\n",
    "quantidadeFinalizada = totalUsuarios - vazio\n",
    "\n",
    "#ADM, EXATAS, CSH, ENG, SAUDE, BIO, ARTES\n",
    "\n",
    "ptgAdm = str(areas['Administração'] / totalUsuarios * 100) + '%'\n",
    "ptgExatas = str(areas['Exatas'] / totalUsuarios * 100) + '%'\n",
    "ptgCSH = str(areas['Ciências Sociais e Humanas'] / totalUsuarios * 100) + '%'\n",
    "ptgEng = str(areas['Engenharia'] / totalUsuarios * 100) + '%'\n",
    "ptgSaude = str(areas['Saúde'] / totalUsuarios * 100) + '%'\n",
    "ptgBio = str(areas['Biologia'] / totalUsuarios * 100) + '%'\n",
    "ptgArtes = str(areas['Artes'] / totalUsuarios * 100) + '%'"
   ]
  },
  {
   "cell_type": "code",
   "execution_count": null,
   "metadata": {},
   "outputs": [],
   "source": [
    "def find_mongo_users(email):\n",
    "\n",
    "    user = os.environ['mongo_user']\n",
    "    pw = os.environ['mongo_password']\n",
    "    #CLUSTER\n",
    "    banco = #banco\n",
    "    connection_string = f'mongodb+srv://{user}:{pw}@{banco}.fzicr.mongodb.net/test?retryWrites=true&w=majority' \n",
    "    \n",
    "    client = pymongo.MongoClient(connection_string, ssl=True)\n",
    "    db = client.prod\n",
    "    collection = db[\"users\"]\n",
    "\n",
    "    alunoAprova = False\n",
    "    aluno = collection.find_one({'email' : email})\n",
    "\n",
    "    if aluno:\n",
    "        alunoAprova = True\n",
    "    \n",
    "    return alunoAprova"
   ]
  },
  {
   "cell_type": "code",
   "execution_count": null,
   "metadata": {},
   "outputs": [],
   "source": [
    "dfEstatisticas = pd.DataFrame({\n",
    "    'Estatísticas': ['Total Usuários', 'Finalizaram o Teste', 'Não Finalizaram',\n",
    "                    'Percentual Administração', 'Percentual Exatas', 'Percentual Ciências Sociais e Humanas',\n",
    "                    'Percentual Engenharia', 'Percentual Saúde', 'Percentual Biologia', 'Percentual Artes'],\n",
    "    'Valores': [totalUsuarios, quantidadeFinalizada, vazio,\n",
    "                ptgAdm, ptgExatas, ptgCSH, ptgEng, ptgSaude, ptgBio, ptgArtes]})\n",
    "\n",
    "dfEstatisticas.to_csv('EstatísticasTeste.csv')"
   ]
  },
  {
   "cell_type": "code",
   "execution_count": null,
   "metadata": {},
   "outputs": [],
   "source": [
    "#Verificação de quantos são alunos\n",
    "emails_alunos = []\n",
    "emails_NaoAlunos = []\n",
    "\n",
    "DadosActiveCampaign = pd.read_csv('active.csv')\n",
    "emails, resultadosTeste = DadosActiveCampaign['Email'], DadosActiveCampaign['Resultado']\n",
    "\n",
    "for email in emails:\n",
    "    if not email.endswith('@aprovatotal.com.br'):\n",
    "        alunoAprova = find_mongo_users(email)\n",
    "        if alunoAprova:\n",
    "            emails_alunos.append(email)\n",
    "        else:\n",
    "            emails_NaoAlunos.append(email)"
   ]
  },
  {
   "cell_type": "code",
   "execution_count": null,
   "metadata": {},
   "outputs": [],
   "source": [
    "dfEstatisticasAlunos = pd.DataFrame({\n",
    "    'Estatísticas': ['Alunos', 'Não-Alunos' 'E-mail', 'Resultado'],\n",
    "    'Valores': [len(emails_alunos), len(emails_NaoAlunos), emails, resultadosTeste]})\n",
    "\n",
    "dfEstatisticas.to_csv('EstatísticasAlunos.csv')"
   ]
  },
  {
   "cell_type": "code",
   "execution_count": null,
   "metadata": {},
   "outputs": [],
   "source": []
  }
 ],
 "metadata": {
  "kernelspec": {
   "display_name": "Python 3",
   "language": "python",
   "name": "python3"
  },
  "language_info": {
   "codemirror_mode": {
    "name": "ipython",
    "version": 3
   },
   "file_extension": ".py",
   "mimetype": "text/x-python",
   "name": "python",
   "nbconvert_exporter": "python",
   "pygments_lexer": "ipython3",
   "version": "3.10.12"
  }
 },
 "nbformat": 4,
 "nbformat_minor": 2
}
